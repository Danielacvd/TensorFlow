{
  "nbformat": 4,
  "nbformat_minor": 0,
  "metadata": {
    "colab": {
      "name": "TensorFlowSyntax.ipynb",
      "provenance": [],
      "collapsed_sections": []
    },
    "kernelspec": {
      "name": "python3",
      "display_name": "Python 3"
    }
  },
  "cells": [
    {
      "cell_type": "code",
      "metadata": {
        "id": "yoao8974s_bL"
      },
      "source": [
        "#Syntax TensorFlow\n",
        "# import tensorflow as tf, la v2 no tiene session\n",
        "import tensorflow.compat.v1 as tf\n",
        "tf.disable_v2_behavior()\n",
        "\n"
      ],
      "execution_count": 16,
      "outputs": []
    },
    {
      "cell_type": "code",
      "metadata": {
        "id": "Pne8nxYbtMrs"
      },
      "source": [
        "#creamos un msg sera una cte con una cadena de caracteres.\n",
        "msg1 = tf.constant(\"Hellowo\")\n",
        "msg2 = tf.constant(\" tensorasd\")"
      ],
      "execution_count": 14,
      "outputs": []
    },
    {
      "cell_type": "code",
      "metadata": {
        "id": "q-dHusyttdTf",
        "outputId": "11db113d-8a22-4bca-936f-b7c128ef1960",
        "colab": {
          "base_uri": "https://localhost:8080/",
          "height": 50
        }
      },
      "source": [
        "#si hago print, nos dira que es un tensor tipo sprint\n",
        "print(msg1)\n",
        "print(type(msg1))"
      ],
      "execution_count": 10,
      "outputs": [
        {
          "output_type": "stream",
          "text": [
            "Tensor(\"Const:0\", shape=(), dtype=string)\n",
            "<class 'tensorflow.python.framework.ops.Tensor'>\n"
          ],
          "name": "stdout"
        }
      ]
    },
    {
      "cell_type": "code",
      "metadata": {
        "id": "_YFXGvVutfDj",
        "outputId": "99482593-1a44-4dd5-945b-0899caed386b",
        "colab": {
          "base_uri": "https://localhost:8080/",
          "height": 34
        }
      },
      "source": [
        "#Para concatenar tenemos que usar una session dentro de tf, como sesion, el resultado es ejecutar la sesion msg1+msg2\n",
        "#Asi se ejecutan cosas dentro de tf, dentro de una sesion\n",
        "with tf.Session() as sesion:\n",
        "  resultado = sesion.run(msg1 + msg2)\n",
        "resultado  "
      ],
      "execution_count": 15,
      "outputs": [
        {
          "output_type": "execute_result",
          "data": {
            "text/plain": [
              "b'Hellowo tensorasd'"
            ]
          },
          "metadata": {
            "tags": []
          },
          "execution_count": 15
        }
      ]
    },
    {
      "cell_type": "code",
      "metadata": {
        "id": "EruW9RrBt_Ll",
        "outputId": "48dc179b-6c94-4479-b70d-d888dc7ac5f9",
        "colab": {
          "base_uri": "https://localhost:8080/",
          "height": 34
        }
      },
      "source": [
        "#Ahora con int's, hago una sesion para sumar....\n",
        "a = tf.constant(10)\n",
        "b = tf.constant(5)\n",
        "\n",
        "with tf.Session() as sesion:\n",
        "  suma = sesion.run(a+b)\n",
        "  resta = sesion.run(a-b)\n",
        "suma, resta"
      ],
      "execution_count": 21,
      "outputs": [
        {
          "output_type": "execute_result",
          "data": {
            "text/plain": [
              "(15, 5)"
            ]
          },
          "metadata": {
            "tags": []
          },
          "execution_count": 21
        }
      ]
    },
    {
      "cell_type": "code",
      "metadata": {
        "id": "11Y5aOsWwSmV"
      },
      "source": [
        "#varias operacion, dentro de la misma sesion\n",
        "cte = tf.constant(15)\n",
        "#Con fill lleno una matriz de x,x, con valor de 10\n",
        "matriz1 = tf.fill((6,6), 10)\n",
        "#random nomral, tamaño matriz\n",
        "matriz2 = tf.random_normal((5,5))\n",
        "matriz3 = tf.random_uniform((4,4), minval=0, maxval=5)\n",
        "matriz_ceros = tf.zeros((2,2))\n",
        "matriz_unos = tf.ones((3,3))\n"
      ],
      "execution_count": 31,
      "outputs": []
    },
    {
      "cell_type": "code",
      "metadata": {
        "id": "nNbBtrXewqxt"
      },
      "source": [
        "operaciones = [cte, matriz1, matriz2, matriz3, matriz_ceros, matriz_unos]"
      ],
      "execution_count": 34,
      "outputs": []
    },
    {
      "cell_type": "code",
      "metadata": {
        "id": "T8Y1y56dxhSs",
        "outputId": "4026ad24-65a5-4379-eb13-98e2f5d0d10d",
        "colab": {
          "base_uri": "https://localhost:8080/",
          "height": 571
        }
      },
      "source": [
        "with tf.Session() as sesion:\n",
        "  #Dentro de la sesion de tf, ejecutamos.\n",
        "  #con sesion.run imprimo el resultado de ejecutarlas.\n",
        "  for i in operaciones:\n",
        "    print(sesion.run(i))\n",
        "    print(\"\\n\")"
      ],
      "execution_count": 37,
      "outputs": [
        {
          "output_type": "stream",
          "text": [
            "15\n",
            "\n",
            "\n",
            "[[10 10 10 10 10 10]\n",
            " [10 10 10 10 10 10]\n",
            " [10 10 10 10 10 10]\n",
            " [10 10 10 10 10 10]\n",
            " [10 10 10 10 10 10]\n",
            " [10 10 10 10 10 10]]\n",
            "\n",
            "\n",
            "[[-0.34799865  0.94179773  0.4599604  -1.0791551  -0.24485287]\n",
            " [ 0.78849864 -2.932507    0.5005612  -1.975985    0.01189856]\n",
            " [ 0.89670545  0.9986326  -1.9421269   0.14161606  0.3630584 ]\n",
            " [-0.11134944  0.5554761   0.15401077 -1.0941678   2.0478084 ]\n",
            " [ 2.5002935  -0.9740924  -1.1038729   0.95435697  1.054483  ]]\n",
            "\n",
            "\n",
            "[[0.3806597  0.7569605  1.2591279  0.5122608 ]\n",
            " [3.9461775  2.3627174  1.8394595  1.8867433 ]\n",
            " [2.116837   1.3494736  1.9444156  4.566595  ]\n",
            " [1.3848597  0.1374203  0.34630716 3.2160883 ]]\n",
            "\n",
            "\n",
            "[[0. 0.]\n",
            " [0. 0.]]\n",
            "\n",
            "\n",
            "[[1. 1. 1.]\n",
            " [1. 1. 1.]\n",
            " [1. 1. 1.]]\n",
            "\n",
            "\n"
          ],
          "name": "stdout"
        }
      ]
    },
    {
      "cell_type": "code",
      "metadata": {
        "id": "tkPLexuNxwL_"
      },
      "source": [
        ""
      ],
      "execution_count": null,
      "outputs": []
    }
  ]
}